{
  "nbformat": 4,
  "nbformat_minor": 0,
  "metadata": {
    "colab": {
      "provenance": []
    },
    "kernelspec": {
      "name": "python3",
      "display_name": "Python 3"
    },
    "language_info": {
      "name": "python"
    }
  },
  "cells": [
    {
      "cell_type": "code",
      "source": [
        "import torch\n",
        "import torch.nn as nn\n",
        "import torch.nn.functional as F\n",
        "import torch.optim as optim\n",
        "\n",
        "torch.manual_seed(1)"
      ],
      "metadata": {
        "colab": {
          "base_uri": "https://localhost:8080/"
        },
        "id": "E8dgglUxky4C",
        "outputId": "bd3b3e03-84dc-4fef-e89a-bc639378b5e5"
      },
      "execution_count": null,
      "outputs": [
        {
          "output_type": "execute_result",
          "data": {
            "text/plain": [
              "<torch._C.Generator at 0x7b78cc3a44d0>"
            ]
          },
          "metadata": {},
          "execution_count": 1
        }
      ]
    },
    {
      "cell_type": "code",
      "source": [
        "x_train = torch.FloatTensor([[1], [2], [3]])\n",
        "y_train = torch.FloatTensor([[2], [4], [6]])\n",
        "\n",
        "W = torch.zeros(1, requires_grad=True)\n",
        "b = torch.zeros(1, requires_grad=True)\n",
        "\n",
        "optimizer = optim.SGD([W, b], lr=0.01)"
      ],
      "metadata": {
        "id": "JDBaZy9ioaRC"
      },
      "execution_count": null,
      "outputs": []
    },
    {
      "cell_type": "code",
      "source": [
        "nb_epochs = 2000\n",
        "\n",
        "for epoch in range(nb_epochs+1):\n",
        "\n",
        "  hypothesis = x_train * W + b\n",
        "\n",
        "  cost = torch.mean((hypothesis - y_train) ** 2)\n",
        "  optimizer.zero_grad()\n",
        "  cost.backward()\n",
        "  optimizer.step()\n",
        "\n",
        "  if epoch % 100 == 0:\n",
        "    print('Epoch {:4d} / {} W : {:.3f}, b: {:.3f} Cost : {:.6f}'.format(epoch,nb_epochs,W.item(),b.item(), cost.item()))"
      ],
      "metadata": {
        "colab": {
          "base_uri": "https://localhost:8080/"
        },
        "id": "rATz-UrupZGa",
        "outputId": "4226a1af-71f0-421b-9292-fd99d944be2f"
      },
      "execution_count": null,
      "outputs": [
        {
          "output_type": "stream",
          "name": "stdout",
          "text": [
            "Epoch    0 / 2000 W : 0.187, b: 0.080 Cost : 18.666666\n",
            "Epoch  100 / 2000 W : 1.746, b: 0.578 Cost : 0.048171\n",
            "Epoch  200 / 2000 W : 1.800, b: 0.454 Cost : 0.029767\n",
            "Epoch  300 / 2000 W : 1.843, b: 0.357 Cost : 0.018394\n",
            "Epoch  400 / 2000 W : 1.876, b: 0.281 Cost : 0.011366\n",
            "Epoch  500 / 2000 W : 1.903, b: 0.221 Cost : 0.007024\n",
            "Epoch  600 / 2000 W : 1.924, b: 0.174 Cost : 0.004340\n",
            "Epoch  700 / 2000 W : 1.940, b: 0.136 Cost : 0.002682\n",
            "Epoch  800 / 2000 W : 1.953, b: 0.107 Cost : 0.001657\n",
            "Epoch  900 / 2000 W : 1.963, b: 0.084 Cost : 0.001024\n",
            "Epoch 1000 / 2000 W : 1.971, b: 0.066 Cost : 0.000633\n",
            "Epoch 1100 / 2000 W : 1.977, b: 0.052 Cost : 0.000391\n",
            "Epoch 1200 / 2000 W : 1.982, b: 0.041 Cost : 0.000242\n",
            "Epoch 1300 / 2000 W : 1.986, b: 0.032 Cost : 0.000149\n",
            "Epoch 1400 / 2000 W : 1.989, b: 0.025 Cost : 0.000092\n",
            "Epoch 1500 / 2000 W : 1.991, b: 0.020 Cost : 0.000057\n",
            "Epoch 1600 / 2000 W : 1.993, b: 0.016 Cost : 0.000035\n",
            "Epoch 1700 / 2000 W : 1.995, b: 0.012 Cost : 0.000022\n",
            "Epoch 1800 / 2000 W : 1.996, b: 0.010 Cost : 0.000013\n",
            "Epoch 1900 / 2000 W : 1.997, b: 0.008 Cost : 0.000008\n",
            "Epoch 2000 / 2000 W : 1.997, b: 0.006 Cost : 0.000005\n"
          ]
        }
      ]
    }
  ]
}